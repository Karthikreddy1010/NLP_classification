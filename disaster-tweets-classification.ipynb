{
 "cells": [
  {
   "cell_type": "code",
   "execution_count": 1,
   "id": "5a01b7ba",
   "metadata": {
    "_cell_guid": "b1076dfc-b9ad-4769-8c92-a6c4dae69d19",
    "_uuid": "8f2839f25d086af736a60e9eeb907d3b93b6e0e5",
    "execution": {
     "iopub.execute_input": "2024-07-09T07:27:28.226328Z",
     "iopub.status.busy": "2024-07-09T07:27:28.225829Z",
     "iopub.status.idle": "2024-07-09T07:27:29.093208Z",
     "shell.execute_reply": "2024-07-09T07:27:29.091693Z"
    },
    "papermill": {
     "duration": 0.887399,
     "end_time": "2024-07-09T07:27:29.095918",
     "exception": false,
     "start_time": "2024-07-09T07:27:28.208519",
     "status": "completed"
    },
    "tags": []
   },
   "outputs": [
    {
     "name": "stdout",
     "output_type": "stream",
     "text": [
      "/kaggle/input/nlp-getting-started/sample_submission.csv\n",
      "/kaggle/input/nlp-getting-started/train.csv\n",
      "/kaggle/input/nlp-getting-started/test.csv\n"
     ]
    }
   ],
   "source": [
    "# This Python 3 environment comes with many helpful analytics libraries installed\n",
    "# It is defined by the kaggle/python Docker image: https://github.com/kaggle/docker-python\n",
    "# For example, here's several helpful packages to load\n",
    "\n",
    "import numpy as np # linear algebra\n",
    "import pandas as pd # data processing, CSV file I/O (e.g. pd.read_csv)\n",
    "\n",
    "# Input data files are available in the read-only \"../input/\" directory\n",
    "# For example, running this (by clicking run or pressing Shift+Enter) will list all files under the input directory\n",
    "\n",
    "import os\n",
    "for dirname, _, filenames in os.walk('/kaggle/input'):\n",
    "    for filename in filenames:\n",
    "        print(os.path.join(dirname, filename))\n",
    "\n",
    "# You can write up to 20GB to the current directory (/kaggle/working/) that gets preserved as output when you create a version using \"Save & Run All\" \n",
    "# You can also write temporary files to /kaggle/temp/, but they won't be saved outside of the current session"
   ]
  },
  {
   "cell_type": "code",
   "execution_count": 2,
   "id": "642d65b2",
   "metadata": {
    "execution": {
     "iopub.execute_input": "2024-07-09T07:27:29.126115Z",
     "iopub.status.busy": "2024-07-09T07:27:29.125027Z",
     "iopub.status.idle": "2024-07-09T07:27:29.199728Z",
     "shell.execute_reply": "2024-07-09T07:27:29.198544Z"
    },
    "papermill": {
     "duration": 0.092866,
     "end_time": "2024-07-09T07:27:29.202614",
     "exception": false,
     "start_time": "2024-07-09T07:27:29.109748",
     "status": "completed"
    },
    "tags": []
   },
   "outputs": [],
   "source": [
    "train_df = pd.read_csv('/kaggle/input/nlp-getting-started/train.csv')\n",
    "test_df = pd.read_csv('/kaggle/input/nlp-getting-started/test.csv')\n"
   ]
  },
  {
   "cell_type": "code",
   "execution_count": 3,
   "id": "28e6d231",
   "metadata": {
    "execution": {
     "iopub.execute_input": "2024-07-09T07:27:29.232575Z",
     "iopub.status.busy": "2024-07-09T07:27:29.232177Z",
     "iopub.status.idle": "2024-07-09T07:27:29.253723Z",
     "shell.execute_reply": "2024-07-09T07:27:29.252454Z"
    },
    "papermill": {
     "duration": 0.039527,
     "end_time": "2024-07-09T07:27:29.256475",
     "exception": false,
     "start_time": "2024-07-09T07:27:29.216948",
     "status": "completed"
    },
    "tags": []
   },
   "outputs": [
    {
     "data": {
      "text/html": [
       "<div>\n",
       "<style scoped>\n",
       "    .dataframe tbody tr th:only-of-type {\n",
       "        vertical-align: middle;\n",
       "    }\n",
       "\n",
       "    .dataframe tbody tr th {\n",
       "        vertical-align: top;\n",
       "    }\n",
       "\n",
       "    .dataframe thead th {\n",
       "        text-align: right;\n",
       "    }\n",
       "</style>\n",
       "<table border=\"1\" class=\"dataframe\">\n",
       "  <thead>\n",
       "    <tr style=\"text-align: right;\">\n",
       "      <th></th>\n",
       "      <th>id</th>\n",
       "      <th>keyword</th>\n",
       "      <th>location</th>\n",
       "      <th>text</th>\n",
       "      <th>target</th>\n",
       "    </tr>\n",
       "  </thead>\n",
       "  <tbody>\n",
       "    <tr>\n",
       "      <th>0</th>\n",
       "      <td>1</td>\n",
       "      <td>NaN</td>\n",
       "      <td>NaN</td>\n",
       "      <td>Our Deeds are the Reason of this #earthquake M...</td>\n",
       "      <td>1</td>\n",
       "    </tr>\n",
       "    <tr>\n",
       "      <th>1</th>\n",
       "      <td>4</td>\n",
       "      <td>NaN</td>\n",
       "      <td>NaN</td>\n",
       "      <td>Forest fire near La Ronge Sask. Canada</td>\n",
       "      <td>1</td>\n",
       "    </tr>\n",
       "    <tr>\n",
       "      <th>2</th>\n",
       "      <td>5</td>\n",
       "      <td>NaN</td>\n",
       "      <td>NaN</td>\n",
       "      <td>All residents asked to 'shelter in place' are ...</td>\n",
       "      <td>1</td>\n",
       "    </tr>\n",
       "    <tr>\n",
       "      <th>3</th>\n",
       "      <td>6</td>\n",
       "      <td>NaN</td>\n",
       "      <td>NaN</td>\n",
       "      <td>13,000 people receive #wildfires evacuation or...</td>\n",
       "      <td>1</td>\n",
       "    </tr>\n",
       "    <tr>\n",
       "      <th>4</th>\n",
       "      <td>7</td>\n",
       "      <td>NaN</td>\n",
       "      <td>NaN</td>\n",
       "      <td>Just got sent this photo from Ruby #Alaska as ...</td>\n",
       "      <td>1</td>\n",
       "    </tr>\n",
       "  </tbody>\n",
       "</table>\n",
       "</div>"
      ],
      "text/plain": [
       "   id keyword location                                               text  \\\n",
       "0   1     NaN      NaN  Our Deeds are the Reason of this #earthquake M...   \n",
       "1   4     NaN      NaN             Forest fire near La Ronge Sask. Canada   \n",
       "2   5     NaN      NaN  All residents asked to 'shelter in place' are ...   \n",
       "3   6     NaN      NaN  13,000 people receive #wildfires evacuation or...   \n",
       "4   7     NaN      NaN  Just got sent this photo from Ruby #Alaska as ...   \n",
       "\n",
       "   target  \n",
       "0       1  \n",
       "1       1  \n",
       "2       1  \n",
       "3       1  \n",
       "4       1  "
      ]
     },
     "execution_count": 3,
     "metadata": {},
     "output_type": "execute_result"
    }
   ],
   "source": [
    "train_df.head()"
   ]
  },
  {
   "cell_type": "code",
   "execution_count": 4,
   "id": "6d265e34",
   "metadata": {
    "execution": {
     "iopub.execute_input": "2024-07-09T07:27:29.285765Z",
     "iopub.status.busy": "2024-07-09T07:27:29.285353Z",
     "iopub.status.idle": "2024-07-09T07:27:29.293242Z",
     "shell.execute_reply": "2024-07-09T07:27:29.291850Z"
    },
    "papermill": {
     "duration": 0.025632,
     "end_time": "2024-07-09T07:27:29.295764",
     "exception": false,
     "start_time": "2024-07-09T07:27:29.270132",
     "status": "completed"
    },
    "tags": []
   },
   "outputs": [
    {
     "data": {
      "text/plain": [
       "(7613, 5)"
      ]
     },
     "execution_count": 4,
     "metadata": {},
     "output_type": "execute_result"
    }
   ],
   "source": [
    "train_df.shape"
   ]
  },
  {
   "cell_type": "code",
   "execution_count": 5,
   "id": "cb3d070c",
   "metadata": {
    "execution": {
     "iopub.execute_input": "2024-07-09T07:27:29.326049Z",
     "iopub.status.busy": "2024-07-09T07:27:29.325641Z",
     "iopub.status.idle": "2024-07-09T07:27:29.339821Z",
     "shell.execute_reply": "2024-07-09T07:27:29.338783Z"
    },
    "papermill": {
     "duration": 0.032129,
     "end_time": "2024-07-09T07:27:29.342626",
     "exception": false,
     "start_time": "2024-07-09T07:27:29.310497",
     "status": "completed"
    },
    "tags": []
   },
   "outputs": [
    {
     "data": {
      "text/plain": [
       "id             0\n",
       "keyword       61\n",
       "location    2533\n",
       "text           0\n",
       "target         0\n",
       "dtype: int64"
      ]
     },
     "execution_count": 5,
     "metadata": {},
     "output_type": "execute_result"
    }
   ],
   "source": [
    "train_df.isnull().sum()"
   ]
  },
  {
   "cell_type": "code",
   "execution_count": 6,
   "id": "19e1caf0",
   "metadata": {
    "execution": {
     "iopub.execute_input": "2024-07-09T07:27:29.372697Z",
     "iopub.status.busy": "2024-07-09T07:27:29.372286Z",
     "iopub.status.idle": "2024-07-09T07:27:29.389193Z",
     "shell.execute_reply": "2024-07-09T07:27:29.388005Z"
    },
    "papermill": {
     "duration": 0.034899,
     "end_time": "2024-07-09T07:27:29.391710",
     "exception": false,
     "start_time": "2024-07-09T07:27:29.356811",
     "status": "completed"
    },
    "tags": []
   },
   "outputs": [
    {
     "data": {
      "text/html": [
       "<div>\n",
       "<style scoped>\n",
       "    .dataframe tbody tr th:only-of-type {\n",
       "        vertical-align: middle;\n",
       "    }\n",
       "\n",
       "    .dataframe tbody tr th {\n",
       "        vertical-align: top;\n",
       "    }\n",
       "\n",
       "    .dataframe thead th {\n",
       "        text-align: right;\n",
       "    }\n",
       "</style>\n",
       "<table border=\"1\" class=\"dataframe\">\n",
       "  <thead>\n",
       "    <tr style=\"text-align: right;\">\n",
       "      <th></th>\n",
       "      <th>id</th>\n",
       "      <th>text</th>\n",
       "      <th>target</th>\n",
       "    </tr>\n",
       "  </thead>\n",
       "  <tbody>\n",
       "    <tr>\n",
       "      <th>0</th>\n",
       "      <td>1</td>\n",
       "      <td>Our Deeds are the Reason of this #earthquake M...</td>\n",
       "      <td>1</td>\n",
       "    </tr>\n",
       "    <tr>\n",
       "      <th>1</th>\n",
       "      <td>4</td>\n",
       "      <td>Forest fire near La Ronge Sask. Canada</td>\n",
       "      <td>1</td>\n",
       "    </tr>\n",
       "    <tr>\n",
       "      <th>2</th>\n",
       "      <td>5</td>\n",
       "      <td>All residents asked to 'shelter in place' are ...</td>\n",
       "      <td>1</td>\n",
       "    </tr>\n",
       "    <tr>\n",
       "      <th>3</th>\n",
       "      <td>6</td>\n",
       "      <td>13,000 people receive #wildfires evacuation or...</td>\n",
       "      <td>1</td>\n",
       "    </tr>\n",
       "    <tr>\n",
       "      <th>4</th>\n",
       "      <td>7</td>\n",
       "      <td>Just got sent this photo from Ruby #Alaska as ...</td>\n",
       "      <td>1</td>\n",
       "    </tr>\n",
       "  </tbody>\n",
       "</table>\n",
       "</div>"
      ],
      "text/plain": [
       "   id                                               text  target\n",
       "0   1  Our Deeds are the Reason of this #earthquake M...       1\n",
       "1   4             Forest fire near La Ronge Sask. Canada       1\n",
       "2   5  All residents asked to 'shelter in place' are ...       1\n",
       "3   6  13,000 people receive #wildfires evacuation or...       1\n",
       "4   7  Just got sent this photo from Ruby #Alaska as ...       1"
      ]
     },
     "execution_count": 6,
     "metadata": {},
     "output_type": "execute_result"
    }
   ],
   "source": [
    "drop_columns = ['keyword', 'location']\n",
    "train_df.drop(columns=drop_columns, inplace=True)\n",
    "train_df.head()"
   ]
  },
  {
   "cell_type": "code",
   "execution_count": 7,
   "id": "94cd0876",
   "metadata": {
    "execution": {
     "iopub.execute_input": "2024-07-09T07:27:29.422072Z",
     "iopub.status.busy": "2024-07-09T07:27:29.421638Z",
     "iopub.status.idle": "2024-07-09T07:27:29.435510Z",
     "shell.execute_reply": "2024-07-09T07:27:29.434410Z"
    },
    "papermill": {
     "duration": 0.031985,
     "end_time": "2024-07-09T07:27:29.438028",
     "exception": false,
     "start_time": "2024-07-09T07:27:29.406043",
     "status": "completed"
    },
    "tags": []
   },
   "outputs": [
    {
     "data": {
      "text/plain": [
       "target\n",
       "0    4342\n",
       "1    3271\n",
       "Name: count, dtype: int64"
      ]
     },
     "execution_count": 7,
     "metadata": {},
     "output_type": "execute_result"
    }
   ],
   "source": [
    "train_df['target'].value_counts()"
   ]
  },
  {
   "cell_type": "code",
   "execution_count": 8,
   "id": "09725cc0",
   "metadata": {
    "execution": {
     "iopub.execute_input": "2024-07-09T07:27:29.468928Z",
     "iopub.status.busy": "2024-07-09T07:27:29.468506Z",
     "iopub.status.idle": "2024-07-09T07:27:30.948612Z",
     "shell.execute_reply": "2024-07-09T07:27:30.947533Z"
    },
    "papermill": {
     "duration": 1.498968,
     "end_time": "2024-07-09T07:27:30.951414",
     "exception": false,
     "start_time": "2024-07-09T07:27:29.452446",
     "status": "completed"
    },
    "tags": []
   },
   "outputs": [
    {
     "data": {
      "text/plain": [
       "<Axes: xlabel='target', ylabel='count'>"
      ]
     },
     "execution_count": 8,
     "metadata": {},
     "output_type": "execute_result"
    },
    {
     "data": {
      "image/png": "[encoded data removed]",
      "text/plain": [
       "<Figure size 640x480 with 1 Axes>"
      ]
     },
     "metadata": {},
     "output_type": "display_data"
    }
   ],
   "source": [
    "import seaborn as sns\n",
    "\n",
    "sns.countplot(x=train_df['target'])"
   ]
  },
  {
   "cell_type": "code",
   "execution_count": 9,
   "id": "819097c4",
   "metadata": {
    "execution": {
     "iopub.execute_input": "2024-07-09T07:27:30.982825Z",
     "iopub.status.busy": "2024-07-09T07:27:30.982431Z",
     "iopub.status.idle": "2024-07-09T07:27:30.994211Z",
     "shell.execute_reply": "2024-07-09T07:27:30.993129Z"
    },
    "papermill": {
     "duration": 0.030364,
     "end_time": "2024-07-09T07:27:30.996790",
     "exception": false,
     "start_time": "2024-07-09T07:27:30.966426",
     "status": "completed"
    },
    "tags": []
   },
   "outputs": [
    {
     "data": {
      "text/html": [
       "<div>\n",
       "<style scoped>\n",
       "    .dataframe tbody tr th:only-of-type {\n",
       "        vertical-align: middle;\n",
       "    }\n",
       "\n",
       "    .dataframe tbody tr th {\n",
       "        vertical-align: top;\n",
       "    }\n",
       "\n",
       "    .dataframe thead th {\n",
       "        text-align: right;\n",
       "    }\n",
       "</style>\n",
       "<table border=\"1\" class=\"dataframe\">\n",
       "  <thead>\n",
       "    <tr style=\"text-align: right;\">\n",
       "      <th></th>\n",
       "      <th>id</th>\n",
       "      <th>keyword</th>\n",
       "      <th>location</th>\n",
       "      <th>text</th>\n",
       "    </tr>\n",
       "  </thead>\n",
       "  <tbody>\n",
       "    <tr>\n",
       "      <th>0</th>\n",
       "      <td>0</td>\n",
       "      <td>NaN</td>\n",
       "      <td>NaN</td>\n",
       "      <td>Just happened a terrible car crash</td>\n",
       "    </tr>\n",
       "    <tr>\n",
       "      <th>1</th>\n",
       "      <td>2</td>\n",
       "      <td>NaN</td>\n",
       "      <td>NaN</td>\n",
       "      <td>Heard about #earthquake is different cities, s...</td>\n",
       "    </tr>\n",
       "    <tr>\n",
       "      <th>2</th>\n",
       "      <td>3</td>\n",
       "      <td>NaN</td>\n",
       "      <td>NaN</td>\n",
       "      <td>there is a forest fire at spot pond, geese are...</td>\n",
       "    </tr>\n",
       "    <tr>\n",
       "      <th>3</th>\n",
       "      <td>9</td>\n",
       "      <td>NaN</td>\n",
       "      <td>NaN</td>\n",
       "      <td>Apocalypse lighting. #Spokane #wildfires</td>\n",
       "    </tr>\n",
       "    <tr>\n",
       "      <th>4</th>\n",
       "      <td>11</td>\n",
       "      <td>NaN</td>\n",
       "      <td>NaN</td>\n",
       "      <td>Typhoon Soudelor kills 28 in China and Taiwan</td>\n",
       "    </tr>\n",
       "  </tbody>\n",
       "</table>\n",
       "</div>"
      ],
      "text/plain": [
       "   id keyword location                                               text\n",
       "0   0     NaN      NaN                 Just happened a terrible car crash\n",
       "1   2     NaN      NaN  Heard about #earthquake is different cities, s...\n",
       "2   3     NaN      NaN  there is a forest fire at spot pond, geese are...\n",
       "3   9     NaN      NaN           Apocalypse lighting. #Spokane #wildfires\n",
       "4  11     NaN      NaN      Typhoon Soudelor kills 28 in China and Taiwan"
      ]
     },
     "execution_count": 9,
     "metadata": {},
     "output_type": "execute_result"
    }
   ],
   "source": [
    "test_df.head()"
   ]
  },
  {
   "cell_type": "code",
   "execution_count": 10,
   "id": "7752d9b3",
   "metadata": {
    "execution": {
     "iopub.execute_input": "2024-07-09T07:27:31.029800Z",
     "iopub.status.busy": "2024-07-09T07:27:31.028730Z",
     "iopub.status.idle": "2024-07-09T07:27:31.039232Z",
     "shell.execute_reply": "2024-07-09T07:27:31.037855Z"
    },
    "papermill": {
     "duration": 0.029528,
     "end_time": "2024-07-09T07:27:31.041685",
     "exception": false,
     "start_time": "2024-07-09T07:27:31.012157",
     "status": "completed"
    },
    "tags": []
   },
   "outputs": [
    {
     "data": {
      "text/plain": [
       "id             0\n",
       "keyword       26\n",
       "location    1105\n",
       "text           0\n",
       "dtype: int64"
      ]
     },
     "execution_count": 10,
     "metadata": {},
     "output_type": "execute_result"
    }
   ],
   "source": [
    "test_df.isnull().sum()"
   ]
  },
  {
   "cell_type": "code",
   "execution_count": 11,
   "id": "9dd6b6bb",
   "metadata": {
    "execution": {
     "iopub.execute_input": "2024-07-09T07:27:31.074071Z",
     "iopub.status.busy": "2024-07-09T07:27:31.073663Z",
     "iopub.status.idle": "2024-07-09T07:27:31.080678Z",
     "shell.execute_reply": "2024-07-09T07:27:31.079586Z"
    },
    "papermill": {
     "duration": 0.026239,
     "end_time": "2024-07-09T07:27:31.083288",
     "exception": false,
     "start_time": "2024-07-09T07:27:31.057049",
     "status": "completed"
    },
    "tags": []
   },
   "outputs": [
    {
     "data": {
      "text/plain": [
       "(3263, 4)"
      ]
     },
     "execution_count": 11,
     "metadata": {},
     "output_type": "execute_result"
    }
   ],
   "source": [
    "test_df.shape"
   ]
  },
  {
   "cell_type": "code",
   "execution_count": 12,
   "id": "54993180",
   "metadata": {
    "execution": {
     "iopub.execute_input": "2024-07-09T07:27:31.116404Z",
     "iopub.status.busy": "2024-07-09T07:27:31.116012Z",
     "iopub.status.idle": "2024-07-09T07:27:31.121708Z",
     "shell.execute_reply": "2024-07-09T07:27:31.120459Z"
    },
    "papermill": {
     "duration": 0.025154,
     "end_time": "2024-07-09T07:27:31.124075",
     "exception": false,
     "start_time": "2024-07-09T07:27:31.098921",
     "status": "completed"
    },
    "tags": []
   },
   "outputs": [],
   "source": [
    "X=train_df['text']\n",
    "y=train_df['target']\n",
    "X_test=test_df['text']"
   ]
  },
  {
   "cell_type": "code",
   "execution_count": 13,
   "id": "b7143c39",
   "metadata": {
    "execution": {
     "iopub.execute_input": "2024-07-09T07:27:31.157040Z",
     "iopub.status.busy": "2024-07-09T07:27:31.156188Z",
     "iopub.status.idle": "2024-07-09T07:27:31.498012Z",
     "shell.execute_reply": "2024-07-09T07:27:31.496559Z"
    },
    "papermill": {
     "duration": 0.361374,
     "end_time": "2024-07-09T07:27:31.500843",
     "exception": false,
     "start_time": "2024-07-09T07:27:31.139469",
     "status": "completed"
    },
    "tags": []
   },
   "outputs": [],
   "source": [
    "from sklearn.model_selection import train_test_split\n",
    "\n",
    "X_train,X_val,y_train,y_val=train_test_split(X,\n",
    "                                            y,\n",
    "                                            test_size=0.2,\n",
    "                                            random_state=2024,\n",
    "                                            stratify=y)"
   ]
  },
  {
   "cell_type": "code",
   "execution_count": 14,
   "id": "e6272502",
   "metadata": {
    "execution": {
     "iopub.execute_input": "2024-07-09T07:27:31.533776Z",
     "iopub.status.busy": "2024-07-09T07:27:31.532847Z",
     "iopub.status.idle": "2024-07-09T07:27:31.540858Z",
     "shell.execute_reply": "2024-07-09T07:27:31.539768Z"
    },
    "papermill": {
     "duration": 0.026957,
     "end_time": "2024-07-09T07:27:31.543296",
     "exception": false,
     "start_time": "2024-07-09T07:27:31.516339",
     "status": "completed"
    },
    "tags": []
   },
   "outputs": [
    {
     "data": {
      "text/plain": [
       "7187    BUT I will be uploading these videos ASAP so y...\n",
       "1278            Don't get burned twice by the same flame.\n",
       "3302    The EFAK would be designed for building occupa...\n",
       "1872    Only had a crush on one girl in high school an...\n",
       "6849    games that I really hope to see in AGDQ: Traum...\n",
       "Name: text, dtype: object"
      ]
     },
     "execution_count": 14,
     "metadata": {},
     "output_type": "execute_result"
    }
   ],
   "source": [
    "X_train.head()"
   ]
  },
  {
   "cell_type": "code",
   "execution_count": 15,
   "id": "7abc4c1f",
   "metadata": {
    "execution": {
     "iopub.execute_input": "2024-07-09T07:27:31.576328Z",
     "iopub.status.busy": "2024-07-09T07:27:31.575511Z",
     "iopub.status.idle": "2024-07-09T07:27:31.582378Z",
     "shell.execute_reply": "2024-07-09T07:27:31.581271Z"
    },
    "papermill": {
     "duration": 0.025982,
     "end_time": "2024-07-09T07:27:31.584666",
     "exception": false,
     "start_time": "2024-07-09T07:27:31.558684",
     "status": "completed"
    },
    "tags": []
   },
   "outputs": [
    {
     "data": {
      "text/plain": [
       "'BUT I will be uploading these videos ASAP so you guys get to see the new weapon types in action!'"
      ]
     },
     "execution_count": 15,
     "metadata": {},
     "output_type": "execute_result"
    }
   ],
   "source": [
    "X_train[7187]"
   ]
  },
  {
   "cell_type": "code",
   "execution_count": 16,
   "id": "a39affb8",
   "metadata": {
    "execution": {
     "iopub.execute_input": "2024-07-09T07:27:31.617772Z",
     "iopub.status.busy": "2024-07-09T07:27:31.616959Z",
     "iopub.status.idle": "2024-07-09T07:27:31.625730Z",
     "shell.execute_reply": "2024-07-09T07:27:31.624719Z"
    },
    "papermill": {
     "duration": 0.027841,
     "end_time": "2024-07-09T07:27:31.628093",
     "exception": false,
     "start_time": "2024-07-09T07:27:31.600252",
     "status": "completed"
    },
    "tags": []
   },
   "outputs": [
    {
     "data": {
      "text/plain": [
       "2376    24 killed in two simultaneous rail crash as ac...\n",
       "2607    Black Eye 9: A space battle occurred at Star O...\n",
       "5685    I liked a @YouTube video http://t.co/45TWHJ0l6...\n",
       "3136    Survival Kit Whistle Fire Starter Wire Saw Cre...\n",
       "6432    &lt; 25 Dead In Kuwait Mosque Suicide Bombing ...\n",
       "                              ...                        \n",
       "120     #WisdomWed BONUS - 5 Minute Daily Habits that ...\n",
       "5090    #Obama signed up to a deal that far from makin...\n",
       "3939    Flood Advisory issued August 05 at 4:28PM EDT ...\n",
       "255     Are souls punished withåÊannihilation? http://...\n",
       "1004    WWE 2k15 MyCareer EP18 Tyrone body bagging dud...\n",
       "Name: text, Length: 1523, dtype: object"
      ]
     },
     "execution_count": 16,
     "metadata": {},
     "output_type": "execute_result"
    }
   ],
   "source": [
    "X_val"
   ]
  },
  {
   "cell_type": "markdown",
   "id": "4b6712f1",
   "metadata": {
    "papermill": {
     "duration": 0.015523,
     "end_time": "2024-07-09T07:27:31.659321",
     "exception": false,
     "start_time": "2024-07-09T07:27:31.643798",
     "status": "completed"
    },
    "tags": []
   },
   "source": [
    "KNN with n_neighbors=10, metric=euclidean"
   ]
  },
  {
   "cell_type": "code",
   "execution_count": 17,
   "id": "dbcce7dc",
   "metadata": {
    "execution": {
     "iopub.execute_input": "2024-07-09T07:27:31.693067Z",
     "iopub.status.busy": "2024-07-09T07:27:31.692224Z",
     "iopub.status.idle": "2024-07-09T07:27:33.433473Z",
     "shell.execute_reply": "2024-07-09T07:27:33.431941Z"
    },
    "papermill": {
     "duration": 1.76109,
     "end_time": "2024-07-09T07:27:33.436336",
     "exception": false,
     "start_time": "2024-07-09T07:27:31.675246",
     "status": "completed"
    },
    "tags": []
   },
   "outputs": [
    {
     "name": "stdout",
     "output_type": "stream",
     "text": [
      "              precision    recall  f1-score   support\n",
      "\n",
      "           0       0.60      1.00      0.75       869\n",
      "           1       0.96      0.14      0.24       654\n",
      "\n",
      "    accuracy                           0.63      1523\n",
      "   macro avg       0.78      0.57      0.50      1523\n",
      "weighted avg       0.76      0.63      0.53      1523\n",
      "\n"
     ]
    }
   ],
   "source": [
    "from sklearn.pipeline import Pipeline\n",
    "from sklearn.feature_extraction.text import CountVectorizer\n",
    "from sklearn.neighbors import KNeighborsClassifier\n",
    "from sklearn.metrics import classification_report\n",
    "\n",
    "\n",
    "pipeline = Pipeline([\n",
    "    ('vect', CountVectorizer(ngram_range=(1, 3))),  \n",
    "    ('clf', KNeighborsClassifier(n_neighbors=10, metric='euclidean'))\n",
    "])\n",
    "\n",
    "\n",
    "# Fit the pipeline on the training data\n",
    "pipeline.fit(X_train, y_train)\n",
    "\n",
    "y_pred=pipeline.predict(X_val)\n",
    "print(classification_report(y_val,y_pred))\n"
   ]
  },
  {
   "cell_type": "markdown",
   "id": "69ef6fb3",
   "metadata": {
    "papermill": {
     "duration": 0.016434,
     "end_time": "2024-07-09T07:27:33.469664",
     "exception": false,
     "start_time": "2024-07-09T07:27:33.453230",
     "status": "completed"
    },
    "tags": []
   },
   "source": [
    "KNN with n_neighbor=10, metric=cosine"
   ]
  },
  {
   "cell_type": "code",
   "execution_count": 18,
   "id": "254831cc",
   "metadata": {
    "execution": {
     "iopub.execute_input": "2024-07-09T07:27:33.503425Z",
     "iopub.status.busy": "2024-07-09T07:27:33.503032Z",
     "iopub.status.idle": "2024-07-09T07:27:35.102442Z",
     "shell.execute_reply": "2024-07-09T07:27:35.101167Z"
    },
    "papermill": {
     "duration": 1.619959,
     "end_time": "2024-07-09T07:27:35.105505",
     "exception": false,
     "start_time": "2024-07-09T07:27:33.485546",
     "status": "completed"
    },
    "tags": []
   },
   "outputs": [
    {
     "name": "stdout",
     "output_type": "stream",
     "text": [
      "              precision    recall  f1-score   support\n",
      "\n",
      "           0       0.68      0.94      0.79       869\n",
      "           1       0.84      0.42      0.56       654\n",
      "\n",
      "    accuracy                           0.72      1523\n",
      "   macro avg       0.76      0.68      0.68      1523\n",
      "weighted avg       0.75      0.72      0.69      1523\n",
      "\n"
     ]
    }
   ],
   "source": [
    "# Define the pipeline\n",
    "pipeline = Pipeline([\n",
    "    ('vect', CountVectorizer(ngram_range=(1, 3))),  # Unigrams, bigrams, and trigrams\n",
    "    ('clf', KNeighborsClassifier(n_neighbors=10, metric='cosine'))\n",
    "])\n",
    "\n",
    "\n",
    "# Fit the pipeline on the training data\n",
    "pipeline.fit(X_train, y_train)\n",
    "\n",
    "y_pred=pipeline.predict(X_val)\n",
    "print(classification_report(y_val,y_pred))"
   ]
  },
  {
   "cell_type": "markdown",
   "id": "ac486f3e",
   "metadata": {
    "papermill": {
     "duration": 0.016091,
     "end_time": "2024-07-09T07:27:35.138143",
     "exception": false,
     "start_time": "2024-07-09T07:27:35.122052",
     "status": "completed"
    },
    "tags": []
   },
   "source": [
    "RANDOM FOREST"
   ]
  },
  {
   "cell_type": "code",
   "execution_count": 19,
   "id": "12270ab1",
   "metadata": {
    "execution": {
     "iopub.execute_input": "2024-07-09T07:27:35.172974Z",
     "iopub.status.busy": "2024-07-09T07:27:35.172547Z",
     "iopub.status.idle": "2024-07-09T07:28:06.945062Z",
     "shell.execute_reply": "2024-07-09T07:28:06.943944Z"
    },
    "papermill": {
     "duration": 31.808872,
     "end_time": "2024-07-09T07:28:06.963321",
     "exception": false,
     "start_time": "2024-07-09T07:27:35.154449",
     "status": "completed"
    },
    "tags": []
   },
   "outputs": [
    {
     "name": "stdout",
     "output_type": "stream",
     "text": [
      "              precision    recall  f1-score   support\n",
      "\n",
      "           0       0.66      0.97      0.78       869\n",
      "           1       0.90      0.32      0.47       654\n",
      "\n",
      "    accuracy                           0.69      1523\n",
      "   macro avg       0.78      0.65      0.63      1523\n",
      "weighted avg       0.76      0.69      0.65      1523\n",
      "\n"
     ]
    }
   ],
   "source": [
    "\n",
    "from sklearn.ensemble import RandomForestClassifier\n",
    "\n",
    "# Define the pipeline\n",
    "RF = Pipeline([\n",
    "    ('vect', CountVectorizer(ngram_range=(3, 3))),  \n",
    "    ('clf', RandomForestClassifier())  \n",
    "])\n",
    "\n",
    "\n",
    "\n",
    "# Fit the pipeline on the training data\n",
    "RF.fit(X_train, y_train)\n",
    "\n",
    "y_pred=RF.predict(X_val)\n",
    "print(classification_report(y_val,y_pred))"
   ]
  },
  {
   "cell_type": "markdown",
   "id": "98b52435",
   "metadata": {
    "papermill": {
     "duration": 0.015916,
     "end_time": "2024-07-09T07:28:06.995411",
     "exception": false,
     "start_time": "2024-07-09T07:28:06.979495",
     "status": "completed"
    },
    "tags": []
   },
   "source": [
    "MULTINOMIAL NB with alpha=0.75"
   ]
  },
  {
   "cell_type": "code",
   "execution_count": 20,
   "id": "00aa42b8",
   "metadata": {
    "execution": {
     "iopub.execute_input": "2024-07-09T07:28:07.029377Z",
     "iopub.status.busy": "2024-07-09T07:28:07.028947Z",
     "iopub.status.idle": "2024-07-09T07:28:07.655416Z",
     "shell.execute_reply": "2024-07-09T07:28:07.654256Z"
    },
    "papermill": {
     "duration": 0.646676,
     "end_time": "2024-07-09T07:28:07.658181",
     "exception": false,
     "start_time": "2024-07-09T07:28:07.011505",
     "status": "completed"
    },
    "tags": []
   },
   "outputs": [
    {
     "name": "stdout",
     "output_type": "stream",
     "text": [
      "              precision    recall  f1-score   support\n",
      "\n",
      "           0       0.79      0.88      0.83       869\n",
      "           1       0.81      0.68      0.74       654\n",
      "\n",
      "    accuracy                           0.79      1523\n",
      "   macro avg       0.80      0.78      0.78      1523\n",
      "weighted avg       0.79      0.79      0.79      1523\n",
      "\n"
     ]
    }
   ],
   "source": [
    "\n",
    "from sklearn.naive_bayes import MultinomialNB\n",
    "\n",
    "# Define the pipeline\n",
    "NB = Pipeline([\n",
    "    ('vect', CountVectorizer(ngram_range=(1, 2))),  # Unigrams and bigrams\n",
    "    ('clf', MultinomialNB(alpha=0.75))  # Multinomial Naive Bayes classifier with alpha=0.75\n",
    "])\n",
    "\n",
    "\n",
    "# Fit the pipeline on the training data\n",
    "NB.fit(X_train, y_train)\n",
    "\n",
    "y_pred=NB.predict(X_val)\n",
    "\n",
    "print(classification_report(y_val,y_pred))\n",
    "\n"
   ]
  },
  {
   "cell_type": "markdown",
   "id": "547bf2c2",
   "metadata": {
    "papermill": {
     "duration": 0.01591,
     "end_time": "2024-07-09T07:28:07.748855",
     "exception": false,
     "start_time": "2024-07-09T07:28:07.732945",
     "status": "completed"
    },
    "tags": []
   },
   "source": [
    "Apply preprocess text by removing stop words and apply bag of words"
   ]
  },
  {
   "cell_type": "code",
   "execution_count": 21,
   "id": "3440f350",
   "metadata": {
    "execution": {
     "iopub.execute_input": "2024-07-09T07:28:07.783281Z",
     "iopub.status.busy": "2024-07-09T07:28:07.782856Z",
     "iopub.status.idle": "2024-07-09T07:28:14.813178Z",
     "shell.execute_reply": "2024-07-09T07:28:14.812194Z"
    },
    "papermill": {
     "duration": 7.050733,
     "end_time": "2024-07-09T07:28:14.815815",
     "exception": false,
     "start_time": "2024-07-09T07:28:07.765082",
     "status": "completed"
    },
    "tags": []
   },
   "outputs": [],
   "source": [
    "import spacy\n",
    "nlp = spacy.load('en_core_web_sm')\n",
    "\n",
    "def preprocess_text(text):\n",
    "    doc = nlp(text)\n",
    "    filtered_tokens = []\n",
    "    \n",
    "    for token in doc:\n",
    "        if not token.is_stop and not token.is_punct:\n",
    "            filtered_tokens.append(token.lemma_)\n",
    "    \n",
    "    return \" \".join(filtered_tokens)\n"
   ]
  },
  {
   "cell_type": "code",
   "execution_count": 22,
   "id": "975897e2",
   "metadata": {
    "execution": {
     "iopub.execute_input": "2024-07-09T07:28:14.850821Z",
     "iopub.status.busy": "2024-07-09T07:28:14.850183Z",
     "iopub.status.idle": "2024-07-09T07:29:30.592284Z",
     "shell.execute_reply": "2024-07-09T07:29:30.591111Z"
    },
    "papermill": {
     "duration": 75.762893,
     "end_time": "2024-07-09T07:29:30.595329",
     "exception": false,
     "start_time": "2024-07-09T07:28:14.832436",
     "status": "completed"
    },
    "tags": []
   },
   "outputs": [],
   "source": [
    "train_df['preprocess_text']=train_df.text.apply(preprocess_text)"
   ]
  },
  {
   "cell_type": "code",
   "execution_count": 23,
   "id": "4ae39d7e",
   "metadata": {
    "execution": {
     "iopub.execute_input": "2024-07-09T07:29:30.630566Z",
     "iopub.status.busy": "2024-07-09T07:29:30.630159Z",
     "iopub.status.idle": "2024-07-09T07:30:02.676579Z",
     "shell.execute_reply": "2024-07-09T07:30:02.675333Z"
    },
    "papermill": {
     "duration": 32.067289,
     "end_time": "2024-07-09T07:30:02.679638",
     "exception": false,
     "start_time": "2024-07-09T07:29:30.612349",
     "status": "completed"
    },
    "tags": []
   },
   "outputs": [],
   "source": [
    "test_df['preprocess_text']=test_df.text.apply(preprocess_text)"
   ]
  },
  {
   "cell_type": "code",
   "execution_count": 24,
   "id": "8db20a8a",
   "metadata": {
    "execution": {
     "iopub.execute_input": "2024-07-09T07:30:02.714638Z",
     "iopub.status.busy": "2024-07-09T07:30:02.714246Z",
     "iopub.status.idle": "2024-07-09T07:30:02.726926Z",
     "shell.execute_reply": "2024-07-09T07:30:02.725792Z"
    },
    "papermill": {
     "duration": 0.032987,
     "end_time": "2024-07-09T07:30:02.729396",
     "exception": false,
     "start_time": "2024-07-09T07:30:02.696409",
     "status": "completed"
    },
    "tags": []
   },
   "outputs": [
    {
     "data": {
      "text/html": [
       "<div>\n",
       "<style scoped>\n",
       "    .dataframe tbody tr th:only-of-type {\n",
       "        vertical-align: middle;\n",
       "    }\n",
       "\n",
       "    .dataframe tbody tr th {\n",
       "        vertical-align: top;\n",
       "    }\n",
       "\n",
       "    .dataframe thead th {\n",
       "        text-align: right;\n",
       "    }\n",
       "</style>\n",
       "<table border=\"1\" class=\"dataframe\">\n",
       "  <thead>\n",
       "    <tr style=\"text-align: right;\">\n",
       "      <th></th>\n",
       "      <th>id</th>\n",
       "      <th>text</th>\n",
       "      <th>target</th>\n",
       "      <th>preprocess_text</th>\n",
       "    </tr>\n",
       "  </thead>\n",
       "  <tbody>\n",
       "    <tr>\n",
       "      <th>0</th>\n",
       "      <td>1</td>\n",
       "      <td>Our Deeds are the Reason of this #earthquake M...</td>\n",
       "      <td>1</td>\n",
       "      <td>deed Reason earthquake ALLAH forgive</td>\n",
       "    </tr>\n",
       "    <tr>\n",
       "      <th>1</th>\n",
       "      <td>4</td>\n",
       "      <td>Forest fire near La Ronge Sask. Canada</td>\n",
       "      <td>1</td>\n",
       "      <td>forest fire near La Ronge Sask Canada</td>\n",
       "    </tr>\n",
       "    <tr>\n",
       "      <th>2</th>\n",
       "      <td>5</td>\n",
       "      <td>All residents asked to 'shelter in place' are ...</td>\n",
       "      <td>1</td>\n",
       "      <td>resident ask shelter place notify officer evac...</td>\n",
       "    </tr>\n",
       "    <tr>\n",
       "      <th>3</th>\n",
       "      <td>6</td>\n",
       "      <td>13,000 people receive #wildfires evacuation or...</td>\n",
       "      <td>1</td>\n",
       "      <td>13,000 people receive wildfire evacuation orde...</td>\n",
       "    </tr>\n",
       "    <tr>\n",
       "      <th>4</th>\n",
       "      <td>7</td>\n",
       "      <td>Just got sent this photo from Ruby #Alaska as ...</td>\n",
       "      <td>1</td>\n",
       "      <td>get send photo Ruby Alaska smoke wildfire pour...</td>\n",
       "    </tr>\n",
       "  </tbody>\n",
       "</table>\n",
       "</div>"
      ],
      "text/plain": [
       "   id                                               text  target  \\\n",
       "0   1  Our Deeds are the Reason of this #earthquake M...       1   \n",
       "1   4             Forest fire near La Ronge Sask. Canada       1   \n",
       "2   5  All residents asked to 'shelter in place' are ...       1   \n",
       "3   6  13,000 people receive #wildfires evacuation or...       1   \n",
       "4   7  Just got sent this photo from Ruby #Alaska as ...       1   \n",
       "\n",
       "                                     preprocess_text  \n",
       "0               deed Reason earthquake ALLAH forgive  \n",
       "1              forest fire near La Ronge Sask Canada  \n",
       "2  resident ask shelter place notify officer evac...  \n",
       "3  13,000 people receive wildfire evacuation orde...  \n",
       "4  get send photo Ruby Alaska smoke wildfire pour...  "
      ]
     },
     "execution_count": 24,
     "metadata": {},
     "output_type": "execute_result"
    }
   ],
   "source": [
    "train_df.head()"
   ]
  },
  {
   "cell_type": "code",
   "execution_count": 25,
   "id": "b4cc8b7f",
   "metadata": {
    "execution": {
     "iopub.execute_input": "2024-07-09T07:30:02.765150Z",
     "iopub.status.busy": "2024-07-09T07:30:02.764308Z",
     "iopub.status.idle": "2024-07-09T07:30:02.769904Z",
     "shell.execute_reply": "2024-07-09T07:30:02.768770Z"
    },
    "papermill": {
     "duration": 0.026243,
     "end_time": "2024-07-09T07:30:02.772505",
     "exception": false,
     "start_time": "2024-07-09T07:30:02.746262",
     "status": "completed"
    },
    "tags": []
   },
   "outputs": [],
   "source": [
    "X=train_df['text']\n",
    "y=train_df['target']\n",
    "X_test=test_df['text']"
   ]
  },
  {
   "cell_type": "markdown",
   "id": "4aa619ae",
   "metadata": {
    "papermill": {
     "duration": 0.016396,
     "end_time": "2024-07-09T07:30:02.806285",
     "exception": false,
     "start_time": "2024-07-09T07:30:02.789889",
     "status": "completed"
    },
    "tags": []
   },
   "source": [
    "Random Forest with preprocessed text"
   ]
  },
  {
   "cell_type": "code",
   "execution_count": 26,
   "id": "e9ea66cf",
   "metadata": {
    "execution": {
     "iopub.execute_input": "2024-07-09T07:30:02.841419Z",
     "iopub.status.busy": "2024-07-09T07:30:02.841013Z",
     "iopub.status.idle": "2024-07-09T07:30:02.853997Z",
     "shell.execute_reply": "2024-07-09T07:30:02.853066Z"
    },
    "papermill": {
     "duration": 0.033627,
     "end_time": "2024-07-09T07:30:02.856739",
     "exception": false,
     "start_time": "2024-07-09T07:30:02.823112",
     "status": "completed"
    },
    "tags": []
   },
   "outputs": [],
   "source": [
    "from sklearn.model_selection import train_test_split\n",
    "\n",
    "X_train,X_val,y_train,y_val=train_test_split(X,\n",
    "                                             y,\n",
    "                                              test_size=0.2,\n",
    "                                              random_state=2024,\n",
    "                                              stratify=y\n",
    "                                              )\n"
   ]
  },
  {
   "cell_type": "code",
   "execution_count": 27,
   "id": "533a231f",
   "metadata": {
    "execution": {
     "iopub.execute_input": "2024-07-09T07:30:02.892160Z",
     "iopub.status.busy": "2024-07-09T07:30:02.891739Z",
     "iopub.status.idle": "2024-07-09T07:30:34.659597Z",
     "shell.execute_reply": "2024-07-09T07:30:34.658485Z"
    },
    "papermill": {
     "duration": 31.804532,
     "end_time": "2024-07-09T07:30:34.678270",
     "exception": false,
     "start_time": "2024-07-09T07:30:02.873738",
     "status": "completed"
    },
    "tags": []
   },
   "outputs": [
    {
     "name": "stdout",
     "output_type": "stream",
     "text": [
      "              precision    recall  f1-score   support\n",
      "\n",
      "           0       0.66      0.98      0.79       869\n",
      "           1       0.92      0.31      0.47       654\n",
      "\n",
      "    accuracy                           0.69      1523\n",
      "   macro avg       0.79      0.65      0.63      1523\n",
      "weighted avg       0.77      0.69      0.65      1523\n",
      "\n"
     ]
    }
   ],
   "source": [
    "\n",
    "from sklearn.ensemble import RandomForestClassifier\n",
    "\n",
    "# Define the pipeline\n",
    "RF = Pipeline([\n",
    "    ('vect', CountVectorizer(ngram_range=(3, 3))),  \n",
    "    ('clf', RandomForestClassifier())  \n",
    "])\n",
    "\n",
    "\n",
    "\n",
    "# Fit the pipeline on the training data\n",
    "RF.fit(X_train, y_train)\n",
    "\n",
    "y_pred=RF.predict(X_val)\n",
    "print(classification_report(y_val,y_pred))"
   ]
  },
  {
   "cell_type": "code",
   "execution_count": 28,
   "id": "67b39642",
   "metadata": {
    "execution": {
     "iopub.execute_input": "2024-07-09T07:30:34.714459Z",
     "iopub.status.busy": "2024-07-09T07:30:34.713743Z",
     "iopub.status.idle": "2024-07-09T07:31:00.777706Z",
     "shell.execute_reply": "2024-07-09T07:31:00.776544Z"
    },
    "papermill": {
     "duration": 26.084875,
     "end_time": "2024-07-09T07:31:00.780541",
     "exception": false,
     "start_time": "2024-07-09T07:30:34.695666",
     "status": "completed"
    },
    "tags": []
   },
   "outputs": [
    {
     "name": "stdout",
     "output_type": "stream",
     "text": [
      "              precision    recall  f1-score   support\n",
      "\n",
      "           0       0.73      0.95      0.83       869\n",
      "           1       0.89      0.53      0.67       654\n",
      "\n",
      "    accuracy                           0.77      1523\n",
      "   macro avg       0.81      0.74      0.75      1523\n",
      "weighted avg       0.80      0.77      0.76      1523\n",
      "\n"
     ]
    }
   ],
   "source": [
    "\n",
    "from sklearn.ensemble import RandomForestClassifier\n",
    "\n",
    "# Define the pipeline\n",
    "RF = Pipeline([\n",
    "    ('vect', CountVectorizer(ngram_range=(1, 2))),  \n",
    "    ('clf', RandomForestClassifier())  \n",
    "])\n",
    "\n",
    "\n",
    "\n",
    "# Fit the pipeline on the training data\n",
    "RF.fit(X_train, y_train)\n",
    "\n",
    "y_pred=RF.predict(X_val)\n",
    "print(classification_report(y_val,y_pred))"
   ]
  },
  {
   "cell_type": "code",
   "execution_count": 29,
   "id": "a6b6ba36",
   "metadata": {
    "execution": {
     "iopub.execute_input": "2024-07-09T07:31:00.816770Z",
     "iopub.status.busy": "2024-07-09T07:31:00.816326Z",
     "iopub.status.idle": "2024-07-09T07:31:11.926279Z",
     "shell.execute_reply": "2024-07-09T07:31:11.924887Z"
    },
    "papermill": {
     "duration": 11.131186,
     "end_time": "2024-07-09T07:31:11.929261",
     "exception": false,
     "start_time": "2024-07-09T07:31:00.798075",
     "status": "completed"
    },
    "tags": []
   },
   "outputs": [
    {
     "name": "stdout",
     "output_type": "stream",
     "text": [
      "              precision    recall  f1-score   support\n",
      "\n",
      "           0       0.74      0.93      0.83       869\n",
      "           1       0.87      0.57      0.69       654\n",
      "\n",
      "    accuracy                           0.78      1523\n",
      "   macro avg       0.81      0.75      0.76      1523\n",
      "weighted avg       0.80      0.78      0.77      1523\n",
      "\n"
     ]
    }
   ],
   "source": [
    "\n",
    "from sklearn.ensemble import RandomForestClassifier\n",
    "\n",
    "# Define the pipeline\n",
    "RF = Pipeline([\n",
    "    ('vect', CountVectorizer()),\n",
    "    ('clf', RandomForestClassifier())  \n",
    "])\n",
    "\n",
    "\n",
    "\n",
    "# Fit the pipeline on the training data\n",
    "RF.fit(X_train, y_train)\n",
    "\n",
    "y_pred=RF.predict(X_val)\n",
    "print(classification_report(y_val,y_pred))"
   ]
  },
  {
   "cell_type": "code",
   "execution_count": 30,
   "id": "ffd8259d",
   "metadata": {
    "execution": {
     "iopub.execute_input": "2024-07-09T07:31:11.966284Z",
     "iopub.status.busy": "2024-07-09T07:31:11.965827Z",
     "iopub.status.idle": "2024-07-09T07:31:12.235616Z",
     "shell.execute_reply": "2024-07-09T07:31:12.234377Z"
    },
    "papermill": {
     "duration": 0.291885,
     "end_time": "2024-07-09T07:31:12.238246",
     "exception": false,
     "start_time": "2024-07-09T07:31:11.946361",
     "status": "completed"
    },
    "tags": []
   },
   "outputs": [
    {
     "name": "stdout",
     "output_type": "stream",
     "text": [
      "              precision    recall  f1-score   support\n",
      "\n",
      "           0       0.79      0.87      0.83       869\n",
      "           1       0.80      0.69      0.74       654\n",
      "\n",
      "    accuracy                           0.80      1523\n",
      "   macro avg       0.80      0.78      0.79      1523\n",
      "weighted avg       0.80      0.80      0.79      1523\n",
      "\n"
     ]
    }
   ],
   "source": [
    "\n",
    "from sklearn.naive_bayes import MultinomialNB\n",
    "\n",
    "# Define the pipeline\n",
    "NB = Pipeline([\n",
    "    ('vect', CountVectorizer()),  \n",
    "    ('clf', MultinomialNB())  \n",
    "])\n",
    "\n",
    "\n",
    "# Fit the pipeline on the training data\n",
    "NB.fit(X_train, y_train)\n",
    "\n",
    "y_pred=NB.predict(X_val)\n",
    "\n",
    "print(classification_report(y_val,y_pred))\n",
    "\n"
   ]
  },
  {
   "cell_type": "code",
   "execution_count": 31,
   "id": "bca69df7",
   "metadata": {
    "execution": {
     "iopub.execute_input": "2024-07-09T07:31:12.274898Z",
     "iopub.status.busy": "2024-07-09T07:31:12.274489Z",
     "iopub.status.idle": "2024-07-09T07:31:12.857030Z",
     "shell.execute_reply": "2024-07-09T07:31:12.855782Z"
    },
    "papermill": {
     "duration": 0.60391,
     "end_time": "2024-07-09T07:31:12.859738",
     "exception": false,
     "start_time": "2024-07-09T07:31:12.255828",
     "status": "completed"
    },
    "tags": []
   },
   "outputs": [
    {
     "data": {
      "image/png": "[encoded data removed]",
      "text/plain": [
       "<Figure size 1000x600 with 1 Axes>"
      ]
     },
     "metadata": {},
     "output_type": "display_data"
    }
   ],
   "source": [
    "import matplotlib.pyplot as plt\n",
    "import seaborn as sns\n",
    "import pandas as pd\n",
    "\n",
    "# Data\n",
    "data = {\n",
    "    'Model': ['KNN (Euclidean)', 'KNN (Cosine)', 'RF (CV-Trigram)', 'MultinomialNB (α=0.75)',\n",
    "              'RF (Trigram)', 'RF (Unigram, Bigram, Trigram)', 'RF', 'MultinomialNB'],\n",
    "    'Accuracy (%)': [63, 74, 69, 79, 70, 77, 78, 80],\n",
    "    'Preprocessing': ['Without Preprocess'] * 4 + ['With Preprocess'] * 4\n",
    "}\n",
    "\n",
    "df = pd.DataFrame(data)\n",
    "\n",
    "# Plot using Seaborn\n",
    "plt.figure(figsize=(10, 6))\n",
    "sns.barplot(x='Model', y='Accuracy (%)', hue='Preprocessing', data=df,\n",
    "            palette={'Without Preprocess': 'deepskyblue', 'With Preprocess': 'orange'})\n",
    "plt.xlabel('Models')\n",
    "plt.ylabel('Accuracy (%)')\n",
    "plt.title('Accuracy of Text Classification Models with and without Preprocessing')\n",
    "plt.ylim(0, 100)  # Set y-axis limit from 0 to 100 for better visualization\n",
    "plt.legend(title='Preprocessing')\n",
    "plt.xticks(rotation=45, ha='right')\n",
    "plt.tight_layout()\n",
    "\n",
    "# Show plot\n",
    "plt.show()\n"
   ]
  },
  {
   "cell_type": "code",
   "execution_count": 32,
   "id": "fb721ff2",
   "metadata": {
    "execution": {
     "iopub.execute_input": "2024-07-09T07:31:12.899884Z",
     "iopub.status.busy": "2024-07-09T07:31:12.899409Z",
     "iopub.status.idle": "2024-07-09T07:31:13.111956Z",
     "shell.execute_reply": "2024-07-09T07:31:13.110705Z"
    },
    "papermill": {
     "duration": 0.236345,
     "end_time": "2024-07-09T07:31:13.114940",
     "exception": false,
     "start_time": "2024-07-09T07:31:12.878595",
     "status": "completed"
    },
    "tags": []
   },
   "outputs": [
    {
     "data": {
      "text/plain": [
       "<6090x18581 sparse matrix of type '<class 'numpy.int64'>'\n",
       "\twith 89350 stored elements in Compressed Sparse Row format>"
      ]
     },
     "execution_count": 32,
     "metadata": {},
     "output_type": "execute_result"
    }
   ],
   "source": [
    "from sklearn.feature_extraction.text import CountVectorizer\n",
    "\n",
    "v=CountVectorizer()\n",
    "\n",
    "X_train_cv=v.fit_transform(X_train.values)\n",
    "X_train_cv"
   ]
  },
  {
   "cell_type": "code",
   "execution_count": 33,
   "id": "6c95e70d",
   "metadata": {
    "execution": {
     "iopub.execute_input": "2024-07-09T07:31:13.153284Z",
     "iopub.status.busy": "2024-07-09T07:31:13.152906Z",
     "iopub.status.idle": "2024-07-09T07:31:13.167687Z",
     "shell.execute_reply": "2024-07-09T07:31:13.166558Z"
    },
    "papermill": {
     "duration": 0.036867,
     "end_time": "2024-07-09T07:31:13.170129",
     "exception": false,
     "start_time": "2024-07-09T07:31:13.133262",
     "status": "completed"
    },
    "tags": []
   },
   "outputs": [
    {
     "data": {
      "text/html": [
       "<style>#sk-container-id-1 {color: black;background-color: white;}#sk-container-id-1 pre{padding: 0;}#sk-container-id-1 div.sk-toggleable {background-color: white;}#sk-container-id-1 label.sk-toggleable__label {cursor: pointer;display: block;width: 100%;margin-bottom: 0;padding: 0.3em;box-sizing: border-box;text-align: center;}#sk-container-id-1 label.sk-toggleable__label-arrow:before {content: \"▸\";float: left;margin-right: 0.25em;color: #696969;}#sk-container-id-1 label.sk-toggleable__label-arrow:hover:before {color: black;}#sk-container-id-1 div.sk-estimator:hover label.sk-toggleable__label-arrow:before {color: black;}#sk-container-id-1 div.sk-toggleable__content {max-height: 0;max-width: 0;overflow: hidden;text-align: left;background-color: #f0f8ff;}#sk-container-id-1 div.sk-toggleable__content pre {margin: 0.2em;color: black;border-radius: 0.25em;background-color: #f0f8ff;}#sk-container-id-1 input.sk-toggleable__control:checked~div.sk-toggleable__content {max-height: 200px;max-width: 100%;overflow: auto;}#sk-container-id-1 input.sk-toggleable__control:checked~label.sk-toggleable__label-arrow:before {content: \"▾\";}#sk-container-id-1 div.sk-estimator input.sk-toggleable__control:checked~label.sk-toggleable__label {background-color: #d4ebff;}#sk-container-id-1 div.sk-label input.sk-toggleable__control:checked~label.sk-toggleable__label {background-color: #d4ebff;}#sk-container-id-1 input.sk-hidden--visually {border: 0;clip: rect(1px 1px 1px 1px);clip: rect(1px, 1px, 1px, 1px);height: 1px;margin: -1px;overflow: hidden;padding: 0;position: absolute;width: 1px;}#sk-container-id-1 div.sk-estimator {font-family: monospace;background-color: #f0f8ff;border: 1px dotted black;border-radius: 0.25em;box-sizing: border-box;margin-bottom: 0.5em;}#sk-container-id-1 div.sk-estimator:hover {background-color: #d4ebff;}#sk-container-id-1 div.sk-parallel-item::after {content: \"\";width: 100%;border-bottom: 1px solid gray;flex-grow: 1;}#sk-container-id-1 div.sk-label:hover label.sk-toggleable__label {background-color: #d4ebff;}#sk-container-id-1 div.sk-serial::before {content: \"\";position: absolute;border-left: 1px solid gray;box-sizing: border-box;top: 0;bottom: 0;left: 50%;z-index: 0;}#sk-container-id-1 div.sk-serial {display: flex;flex-direction: column;align-items: center;background-color: white;padding-right: 0.2em;padding-left: 0.2em;position: relative;}#sk-container-id-1 div.sk-item {position: relative;z-index: 1;}#sk-container-id-1 div.sk-parallel {display: flex;align-items: stretch;justify-content: center;background-color: white;position: relative;}#sk-container-id-1 div.sk-item::before, #sk-container-id-1 div.sk-parallel-item::before {content: \"\";position: absolute;border-left: 1px solid gray;box-sizing: border-box;top: 0;bottom: 0;left: 50%;z-index: -1;}#sk-container-id-1 div.sk-parallel-item {display: flex;flex-direction: column;z-index: 1;position: relative;background-color: white;}#sk-container-id-1 div.sk-parallel-item:first-child::after {align-self: flex-end;width: 50%;}#sk-container-id-1 div.sk-parallel-item:last-child::after {align-self: flex-start;width: 50%;}#sk-container-id-1 div.sk-parallel-item:only-child::after {width: 0;}#sk-container-id-1 div.sk-dashed-wrapped {border: 1px dashed gray;margin: 0 0.4em 0.5em 0.4em;box-sizing: border-box;padding-bottom: 0.4em;background-color: white;}#sk-container-id-1 div.sk-label label {font-family: monospace;font-weight: bold;display: inline-block;line-height: 1.2em;}#sk-container-id-1 div.sk-label-container {text-align: center;}#sk-container-id-1 div.sk-container {/* jupyter's `normalize.less` sets `[hidden] { display: none; }` but bootstrap.min.css set `[hidden] { display: none !important; }` so we also need the `!important` here to be able to override the default hidden behavior on the sphinx rendered scikit-learn.org. See: https://github.com/scikit-learn/scikit-learn/issues/21755 */display: inline-block !important;position: relative;}#sk-container-id-1 div.sk-text-repr-fallback {display: none;}</style><div id=\"sk-container-id-1\" class=\"sk-top-container\"><div class=\"sk-text-repr-fallback\"><pre>MultinomialNB()</pre><b>In a Jupyter environment, please rerun this cell to show the HTML representation or trust the notebook. <br />On GitHub, the HTML representation is unable to render, please try loading this page with nbviewer.org.</b></div><div class=\"sk-container\" hidden><div class=\"sk-item\"><div class=\"sk-estimator sk-toggleable\"><input class=\"sk-toggleable__control sk-hidden--visually\" id=\"sk-estimator-id-1\" type=\"checkbox\" checked><label for=\"sk-estimator-id-1\" class=\"sk-toggleable__label sk-toggleable__label-arrow\">MultinomialNB</label><div class=\"sk-toggleable__content\"><pre>MultinomialNB()</pre></div></div></div></div></div>"
      ],
      "text/plain": [
       "MultinomialNB()"
      ]
     },
     "execution_count": 33,
     "metadata": {},
     "output_type": "execute_result"
    }
   ],
   "source": [
    "from sklearn.naive_bayes import MultinomialNB\n",
    "\n",
    "model=MultinomialNB()\n",
    "model.fit(X_train_cv,y_train)\n"
   ]
  },
  {
   "cell_type": "code",
   "execution_count": 34,
   "id": "b7cc0bfc",
   "metadata": {
    "execution": {
     "iopub.execute_input": "2024-07-09T07:31:13.209398Z",
     "iopub.status.busy": "2024-07-09T07:31:13.208957Z",
     "iopub.status.idle": "2024-07-09T07:31:13.253442Z",
     "shell.execute_reply": "2024-07-09T07:31:13.252364Z"
    },
    "papermill": {
     "duration": 0.067458,
     "end_time": "2024-07-09T07:31:13.256179",
     "exception": false,
     "start_time": "2024-07-09T07:31:13.188721",
     "status": "completed"
    },
    "tags": []
   },
   "outputs": [],
   "source": [
    "X_val_cv=v.transform(X_val)"
   ]
  },
  {
   "cell_type": "code",
   "execution_count": 35,
   "id": "87b0348c",
   "metadata": {
    "execution": {
     "iopub.execute_input": "2024-07-09T07:31:13.295537Z",
     "iopub.status.busy": "2024-07-09T07:31:13.295119Z",
     "iopub.status.idle": "2024-07-09T07:31:13.312434Z",
     "shell.execute_reply": "2024-07-09T07:31:13.311210Z"
    },
    "papermill": {
     "duration": 0.03996,
     "end_time": "2024-07-09T07:31:13.314804",
     "exception": false,
     "start_time": "2024-07-09T07:31:13.274844",
     "status": "completed"
    },
    "tags": []
   },
   "outputs": [
    {
     "name": "stdout",
     "output_type": "stream",
     "text": [
      "              precision    recall  f1-score   support\n",
      "\n",
      "           0       0.79      0.87      0.83       869\n",
      "           1       0.80      0.69      0.74       654\n",
      "\n",
      "    accuracy                           0.80      1523\n",
      "   macro avg       0.80      0.78      0.79      1523\n",
      "weighted avg       0.80      0.80      0.79      1523\n",
      "\n"
     ]
    }
   ],
   "source": [
    "from sklearn.metrics import classification_report\n",
    "\n",
    "y_pred=model.predict(X_val_cv)\n",
    "\n",
    "print(classification_report(y_val,y_pred))\n"
   ]
  },
  {
   "cell_type": "code",
   "execution_count": 36,
   "id": "c76b4dff",
   "metadata": {
    "execution": {
     "iopub.execute_input": "2024-07-09T07:31:13.353767Z",
     "iopub.status.busy": "2024-07-09T07:31:13.353394Z",
     "iopub.status.idle": "2024-07-09T07:31:13.362402Z",
     "shell.execute_reply": "2024-07-09T07:31:13.361077Z"
    },
    "papermill": {
     "duration": 0.031385,
     "end_time": "2024-07-09T07:31:13.364818",
     "exception": false,
     "start_time": "2024-07-09T07:31:13.333433",
     "status": "completed"
    },
    "tags": []
   },
   "outputs": [
    {
     "data": {
      "text/plain": [
       "array([1, 0])"
      ]
     },
     "execution_count": 36,
     "metadata": {},
     "output_type": "execute_result"
    }
   ],
   "source": [
    "msg=[\n",
    "    'Typhoon Soudelor kills 28 in China and Taiwan',\n",
    "    \"They'd probably still show more life than Arsenal did yesterday, eh? EH?\"]\n",
    "msg_count=v.transform(msg)\n",
    "model.predict(msg_count)"
   ]
  },
  {
   "cell_type": "code",
   "execution_count": 37,
   "id": "f41fb855",
   "metadata": {
    "execution": {
     "iopub.execute_input": "2024-07-09T07:31:13.404757Z",
     "iopub.status.busy": "2024-07-09T07:31:13.404361Z",
     "iopub.status.idle": "2024-07-09T07:31:13.505666Z",
     "shell.execute_reply": "2024-07-09T07:31:13.504385Z"
    },
    "papermill": {
     "duration": 0.124595,
     "end_time": "2024-07-09T07:31:13.508685",
     "exception": false,
     "start_time": "2024-07-09T07:31:13.384090",
     "status": "completed"
    },
    "tags": []
   },
   "outputs": [
    {
     "name": "stdout",
     "output_type": "stream",
     "text": [
      "Predictions saved to 'test_predictions.csv'.\n"
     ]
    }
   ],
   "source": [
    "# Step 7: Extract the text from the test dataset\n",
    "X_test = test_df['text']\n",
    "\n",
    "# Step 8: Transform test data using the same CountVectorizer instance\n",
    "X_test_cv = v.transform(X_test)\n",
    "\n",
    "# Step 9: Make predictions on test data\n",
    "test_predictions = model.predict(X_test_cv)\n",
    "\n",
    "# Step 10: Add predictions to the test dataset\n",
    "test_df['predicted_label'] = test_predictions\n",
    "\n",
    "# Step 11: Save the id, text, and predictions to a new file\n",
    "test_df[['id',  'predicted_label']].to_csv('test_predictions.csv', index=False)\n",
    "\n",
    "print(\"Predictions saved to 'test_predictions.csv'.\")\n"
   ]
  }
 ],
 "metadata": {
  "kaggle": {
   "accelerator": "none",
   "dataSources": [
    {
     "databundleVersionId": 869809,
     "sourceId": 17777,
     "sourceType": "competition"
    }
   ],
   "dockerImageVersionId": 30732,
   "isGpuEnabled": false,
   "isInternetEnabled": true,
   "language": "python",
   "sourceType": "notebook"
  },
  "kernelspec": {
   "display_name": "Python 3",
   "language": "python",
   "name": "python3"
  },
  "language_info": {
   "codemirror_mode": {
    "name": "ipython",
    "version": 3
   },
   "file_extension": ".py",
   "mimetype": "text/x-python",
   "name": "python",
   "nbconvert_exporter": "python",
   "pygments_lexer": "ipython3",
   "version": "3.10.13"
  },
  "papermill": {
   "default_parameters": {},
   "duration": 229.79497,
   "end_time": "2024-07-09T07:31:14.953310",
   "environment_variables": {},
   "exception": null,
   "input_path": "__notebook__.ipynb",
   "output_path": "__notebook__.ipynb",
   "parameters": {},
   "start_time": "2024-07-09T07:27:25.158340",
   "version": "2.5.0"
  }
 },
 "nbformat": 4,
 "nbformat_minor": 5
}
