{
 "cells": [
  {
   "cell_type": "markdown",
   "id": "770af144-deaf-4750-9bd6-f26a4b4cecec",
   "metadata": {},
   "source": [
    "## Disaster tweets classification"
   ]
  },
  {
   "cell_type": "code",
   "execution_count": 35,
   "id": "2147b4ba-85de-4712-abbc-4133b22c38ed",
   "metadata": {},
   "outputs": [],
   "source": [
    "import pandas as pd\n",
    "import numpy as np"
   ]
  },
  {
   "cell_type": "code",
   "execution_count": 37,
   "id": "05568e30-8d9d-4531-9af8-51e7dcd47565",
   "metadata": {},
   "outputs": [
    {
     "data": {
      "text/html": [
       "<div>\n",
       "<style scoped>\n",
       "    .dataframe tbody tr th:only-of-type {\n",
       "        vertical-align: middle;\n",
       "    }\n",
       "\n",
       "    .dataframe tbody tr th {\n",
       "        vertical-align: top;\n",
       "    }\n",
       "\n",
       "    .dataframe thead th {\n",
       "        text-align: right;\n",
       "    }\n",
       "</style>\n",
       "<table border=\"1\" class=\"dataframe\">\n",
       "  <thead>\n",
       "    <tr style=\"text-align: right;\">\n",
       "      <th></th>\n",
       "      <th>id</th>\n",
       "      <th>keyword</th>\n",
       "      <th>location</th>\n",
       "      <th>text</th>\n",
       "      <th>target</th>\n",
       "    </tr>\n",
       "  </thead>\n",
       "  <tbody>\n",
       "    <tr>\n",
       "      <th>0</th>\n",
       "      <td>1</td>\n",
       "      <td>NaN</td>\n",
       "      <td>NaN</td>\n",
       "      <td>Our Deeds are the Reason of this #earthquake M...</td>\n",
       "      <td>1</td>\n",
       "    </tr>\n",
       "    <tr>\n",
       "      <th>1</th>\n",
       "      <td>4</td>\n",
       "      <td>NaN</td>\n",
       "      <td>NaN</td>\n",
       "      <td>Forest fire near La Ronge Sask. Canada</td>\n",
       "      <td>1</td>\n",
       "    </tr>\n",
       "    <tr>\n",
       "      <th>2</th>\n",
       "      <td>5</td>\n",
       "      <td>NaN</td>\n",
       "      <td>NaN</td>\n",
       "      <td>All residents asked to 'shelter in place' are ...</td>\n",
       "      <td>1</td>\n",
       "    </tr>\n",
       "    <tr>\n",
       "      <th>3</th>\n",
       "      <td>6</td>\n",
       "      <td>NaN</td>\n",
       "      <td>NaN</td>\n",
       "      <td>13,000 people receive #wildfires evacuation or...</td>\n",
       "      <td>1</td>\n",
       "    </tr>\n",
       "    <tr>\n",
       "      <th>4</th>\n",
       "      <td>7</td>\n",
       "      <td>NaN</td>\n",
       "      <td>NaN</td>\n",
       "      <td>Just got sent this photo from Ruby #Alaska as ...</td>\n",
       "      <td>1</td>\n",
       "    </tr>\n",
       "  </tbody>\n",
       "</table>\n",
       "</div>"
      ],
      "text/plain": [
       "   id keyword location                                               text  \\\n",
       "0   1     NaN      NaN  Our Deeds are the Reason of this #earthquake M...   \n",
       "1   4     NaN      NaN             Forest fire near La Ronge Sask. Canada   \n",
       "2   5     NaN      NaN  All residents asked to 'shelter in place' are ...   \n",
       "3   6     NaN      NaN  13,000 people receive #wildfires evacuation or...   \n",
       "4   7     NaN      NaN  Just got sent this photo from Ruby #Alaska as ...   \n",
       "\n",
       "   target  \n",
       "0       1  \n",
       "1       1  \n",
       "2       1  \n",
       "3       1  \n",
       "4       1  "
      ]
     },
     "execution_count": 37,
     "metadata": {},
     "output_type": "execute_result"
    }
   ],
   "source": [
    "data=pd.read_csv(\"disaster_tweets_train.csv\")\n",
    "data.head()"
   ]
  },
  {
   "cell_type": "code",
   "execution_count": 39,
   "id": "c97aa938-f1f4-4725-a8a0-d86ee9a8a9a0",
   "metadata": {},
   "outputs": [
    {
     "data": {
      "text/plain": [
       "(7613, 5)"
      ]
     },
     "execution_count": 39,
     "metadata": {},
     "output_type": "execute_result"
    }
   ],
   "source": [
    "data.shape"
   ]
  },
  {
   "cell_type": "markdown",
   "id": "a4662cad-160d-4836-8c8f-9a28030fd991",
   "metadata": {},
   "source": [
    "### To see null values"
   ]
  },
  {
   "cell_type": "code",
   "execution_count": 42,
   "id": "f4f6042a-5546-401e-8c1c-68b1d4dc7b4e",
   "metadata": {},
   "outputs": [
    {
     "data": {
      "text/plain": [
       "id             0\n",
       "keyword       61\n",
       "location    2533\n",
       "text           0\n",
       "target         0\n",
       "dtype: int64"
      ]
     },
     "execution_count": 42,
     "metadata": {},
     "output_type": "execute_result"
    }
   ],
   "source": [
    "data.isnull().sum()"
   ]
  },
  {
   "cell_type": "markdown",
   "id": "daa43713-84a6-4d3e-8493-3deec1b38303",
   "metadata": {},
   "source": [
    "### To drop columns that are not useful"
   ]
  },
  {
   "cell_type": "code",
   "execution_count": 45,
   "id": "c21655fa-747d-4e45-893e-d31cf91cd5cb",
   "metadata": {},
   "outputs": [
    {
     "data": {
      "text/html": [
       "<div>\n",
       "<style scoped>\n",
       "    .dataframe tbody tr th:only-of-type {\n",
       "        vertical-align: middle;\n",
       "    }\n",
       "\n",
       "    .dataframe tbody tr th {\n",
       "        vertical-align: top;\n",
       "    }\n",
       "\n",
       "    .dataframe thead th {\n",
       "        text-align: right;\n",
       "    }\n",
       "</style>\n",
       "<table border=\"1\" class=\"dataframe\">\n",
       "  <thead>\n",
       "    <tr style=\"text-align: right;\">\n",
       "      <th></th>\n",
       "      <th>id</th>\n",
       "      <th>text</th>\n",
       "      <th>target</th>\n",
       "    </tr>\n",
       "  </thead>\n",
       "  <tbody>\n",
       "    <tr>\n",
       "      <th>0</th>\n",
       "      <td>1</td>\n",
       "      <td>Our Deeds are the Reason of this #earthquake M...</td>\n",
       "      <td>1</td>\n",
       "    </tr>\n",
       "    <tr>\n",
       "      <th>1</th>\n",
       "      <td>4</td>\n",
       "      <td>Forest fire near La Ronge Sask. Canada</td>\n",
       "      <td>1</td>\n",
       "    </tr>\n",
       "    <tr>\n",
       "      <th>2</th>\n",
       "      <td>5</td>\n",
       "      <td>All residents asked to 'shelter in place' are ...</td>\n",
       "      <td>1</td>\n",
       "    </tr>\n",
       "    <tr>\n",
       "      <th>3</th>\n",
       "      <td>6</td>\n",
       "      <td>13,000 people receive #wildfires evacuation or...</td>\n",
       "      <td>1</td>\n",
       "    </tr>\n",
       "    <tr>\n",
       "      <th>4</th>\n",
       "      <td>7</td>\n",
       "      <td>Just got sent this photo from Ruby #Alaska as ...</td>\n",
       "      <td>1</td>\n",
       "    </tr>\n",
       "  </tbody>\n",
       "</table>\n",
       "</div>"
      ],
      "text/plain": [
       "   id                                               text  target\n",
       "0   1  Our Deeds are the Reason of this #earthquake M...       1\n",
       "1   4             Forest fire near La Ronge Sask. Canada       1\n",
       "2   5  All residents asked to 'shelter in place' are ...       1\n",
       "3   6  13,000 people receive #wildfires evacuation or...       1\n",
       "4   7  Just got sent this photo from Ruby #Alaska as ...       1"
      ]
     },
     "execution_count": 45,
     "metadata": {},
     "output_type": "execute_result"
    }
   ],
   "source": [
    "drop_columns = ['keyword', 'location']\n",
    "data.drop(columns=drop_columns, inplace=True)\n",
    "data.head()"
   ]
  },
  {
   "cell_type": "code",
   "execution_count": 47,
   "id": "c9255aae-6ad8-458a-8d76-6b7b449e370e",
   "metadata": {},
   "outputs": [
    {
     "data": {
      "text/plain": [
       "target\n",
       "0    4342\n",
       "1    3271\n",
       "Name: count, dtype: int64"
      ]
     },
     "execution_count": 47,
     "metadata": {},
     "output_type": "execute_result"
    }
   ],
   "source": [
    "data['target'].value_counts()"
   ]
  },
  {
   "cell_type": "markdown",
   "id": "4d9c82d7-c073-471d-bdcf-54451f5a89e1",
   "metadata": {},
   "source": [
    "## TO Train and test"
   ]
  },
  {
   "cell_type": "code",
   "execution_count": 50,
   "id": "7fd8fc15-8ff4-49f2-b705-43e94ada10c4",
   "metadata": {},
   "outputs": [],
   "source": [
    "from sklearn.model_selection import train_test_split\n",
    "\n",
    "X_train,X_test,y_train,y_test=train_test_split(data.text,\n",
    "                                              data.target,\n",
    "                                              test_size=0.2,\n",
    "                                              random_state=2024,\n",
    "                                              stratify=data.target\n",
    "                                              )\n"
   ]
  },
  {
   "cell_type": "code",
   "execution_count": 52,
   "id": "b52b862d-21b8-45eb-acda-6837c07356e4",
   "metadata": {},
   "outputs": [
    {
     "data": {
      "text/plain": [
       "7187    BUT I will be uploading these videos ASAP so y...\n",
       "1278            Don't get burned twice by the same flame.\n",
       "3302    The EFAK would be designed for building occupa...\n",
       "1872    Only had a crush on one girl in high school an...\n",
       "6849    games that I really hope to see in AGDQ: Traum...\n",
       "Name: text, dtype: object"
      ]
     },
     "execution_count": 52,
     "metadata": {},
     "output_type": "execute_result"
    }
   ],
   "source": [
    "X_train.head()"
   ]
  },
  {
   "cell_type": "code",
   "execution_count": 54,
   "id": "feb5ee0b-5d5b-470f-8c77-2c83f0918f2b",
   "metadata": {},
   "outputs": [
    {
     "data": {
      "text/plain": [
       "'BUT I will be uploading these videos ASAP so you guys get to see the new weapon types in action!'"
      ]
     },
     "execution_count": 54,
     "metadata": {},
     "output_type": "execute_result"
    }
   ],
   "source": [
    "X_train[7187]"
   ]
  },
  {
   "cell_type": "code",
   "execution_count": 56,
   "id": "4a6ac294-fab1-409b-a929-16ccf808a994",
   "metadata": {},
   "outputs": [
    {
     "data": {
      "text/plain": [
       "2376    24 killed in two simultaneous rail crash as ac...\n",
       "2607    Black Eye 9: A space battle occurred at Star O...\n",
       "5685    I liked a @YouTube video http://t.co/45TWHJ0l6...\n",
       "3136    Survival Kit Whistle Fire Starter Wire Saw Cre...\n",
       "6432    &lt; 25 Dead In Kuwait Mosque Suicide Bombing ...\n",
       "Name: text, dtype: object"
      ]
     },
     "execution_count": 56,
     "metadata": {},
     "output_type": "execute_result"
    }
   ],
   "source": [
    "X_test.head()"
   ]
  },
  {
   "cell_type": "markdown",
   "id": "10315fa5-3715-4c37-b3a5-f968a5017239",
   "metadata": {},
   "source": [
    "## KNN with n_neighbors=10, metric=euclidean"
   ]
  },
  {
   "cell_type": "code",
   "execution_count": 59,
   "id": "8b90f4e6-ad3a-4eac-b236-cf1b0719d473",
   "metadata": {},
   "outputs": [
    {
     "name": "stdout",
     "output_type": "stream",
     "text": [
      "              precision    recall  f1-score   support\n",
      "\n",
      "           0       0.60      1.00      0.75       869\n",
      "           1       0.96      0.14      0.24       654\n",
      "\n",
      "    accuracy                           0.63      1523\n",
      "   macro avg       0.78      0.57      0.50      1523\n",
      "weighted avg       0.76      0.63      0.53      1523\n",
      "\n"
     ]
    }
   ],
   "source": [
    "from sklearn.pipeline import Pipeline\n",
    "from sklearn.feature_extraction.text import CountVectorizer\n",
    "from sklearn.neighbors import KNeighborsClassifier\n",
    "from sklearn.metrics import classification_report\n",
    "\n",
    "# Define the pipeline\n",
    "pipeline = Pipeline([\n",
    "    ('vect', CountVectorizer(ngram_range=(1, 3))),  # Unigrams, bigrams, and trigrams\n",
    "    ('clf', KNeighborsClassifier(n_neighbors=10, metric='euclidean'))\n",
    "])\n",
    "\n",
    "\n",
    "# Fit the pipeline on the training data\n",
    "pipeline.fit(X_train, y_train)\n",
    "\n",
    "y_pred=pipeline.predict(X_test)\n",
    "print(classification_report(y_test,y_pred))\n"
   ]
  },
  {
   "cell_type": "markdown",
   "id": "81a30780-b153-4135-9961-59c986bca187",
   "metadata": {},
   "source": [
    "## KNN with n_neighbor=10, metric=cosine"
   ]
  },
  {
   "cell_type": "code",
   "execution_count": 63,
   "id": "541f4059-7fe4-4f79-87af-89fed033bfd5",
   "metadata": {},
   "outputs": [
    {
     "name": "stdout",
     "output_type": "stream",
     "text": [
      "              precision    recall  f1-score   support\n",
      "\n",
      "           0       0.68      0.94      0.79       869\n",
      "           1       0.84      0.42      0.56       654\n",
      "\n",
      "    accuracy                           0.72      1523\n",
      "   macro avg       0.76      0.68      0.68      1523\n",
      "weighted avg       0.75      0.72      0.69      1523\n",
      "\n"
     ]
    }
   ],
   "source": [
    "# Define the pipeline\n",
    "pipeline = Pipeline([\n",
    "    ('vect', CountVectorizer(ngram_range=(1, 3))),  # Unigrams, bigrams, and trigrams\n",
    "    ('clf', KNeighborsClassifier(n_neighbors=10, metric='cosine'))\n",
    "])\n",
    "\n",
    "\n",
    "# Fit the pipeline on the training data\n",
    "pipeline.fit(X_train, y_train)\n",
    "\n",
    "y_pred=pipeline.predict(X_test)\n",
    "print(classification_report(y_test,y_pred))"
   ]
  },
  {
   "cell_type": "markdown",
   "id": "a4379037-7ccb-4fda-84b9-67aa92dcb033",
   "metadata": {},
   "source": [
    "## Random Forest"
   ]
  },
  {
   "cell_type": "code",
   "execution_count": 66,
   "id": "194efc69-261e-4c9f-be84-4487691b9ab0",
   "metadata": {},
   "outputs": [
    {
     "name": "stdout",
     "output_type": "stream",
     "text": [
      "              precision    recall  f1-score   support\n",
      "\n",
      "           0       0.65      0.98      0.78       869\n",
      "           1       0.91      0.31      0.47       654\n",
      "\n",
      "    accuracy                           0.69      1523\n",
      "   macro avg       0.78      0.64      0.62      1523\n",
      "weighted avg       0.76      0.69      0.65      1523\n",
      "\n"
     ]
    }
   ],
   "source": [
    "\n",
    "from sklearn.ensemble import RandomForestClassifier\n",
    "\n",
    "# Define the pipeline\n",
    "RF = Pipeline([\n",
    "    ('vect', CountVectorizer(ngram_range=(3, 3))),  # Trigrams\n",
    "    ('clf', RandomForestClassifier())  # Random Forest classifier\n",
    "])\n",
    "\n",
    "\n",
    "\n",
    "# Fit the pipeline on the training data\n",
    "RF.fit(X_train, y_train)\n",
    "\n",
    "y_pred=RF.predict(X_test)\n",
    "print(classification_report(y_test,y_pred))"
   ]
  },
  {
   "cell_type": "markdown",
   "id": "8b3dbe29-7231-4c61-994d-6c197b99d769",
   "metadata": {},
   "source": [
    "## Multinomial NB with alpha=0.75"
   ]
  },
  {
   "cell_type": "code",
   "execution_count": 69,
   "id": "2606809d-986d-49f5-8768-27a09add5000",
   "metadata": {},
   "outputs": [
    {
     "name": "stdout",
     "output_type": "stream",
     "text": [
      "              precision    recall  f1-score   support\n",
      "\n",
      "           0       0.79      0.88      0.83       869\n",
      "           1       0.81      0.68      0.74       654\n",
      "\n",
      "    accuracy                           0.79      1523\n",
      "   macro avg       0.80      0.78      0.78      1523\n",
      "weighted avg       0.79      0.79      0.79      1523\n",
      "\n"
     ]
    }
   ],
   "source": [
    "\n",
    "from sklearn.naive_bayes import MultinomialNB\n",
    "\n",
    "# Define the pipeline\n",
    "NB = Pipeline([\n",
    "    ('vect', CountVectorizer(ngram_range=(1, 2))),  # Unigrams and bigrams\n",
    "    ('clf', MultinomialNB(alpha=0.75))  # Multinomial Naive Bayes classifier with alpha=0.75\n",
    "])\n",
    "\n",
    "\n",
    "# Fit the pipeline on the training data\n",
    "NB.fit(X_train, y_train)\n",
    "\n",
    "y_pred=NB.predict(X_test)\n",
    "\n",
    "print(classification_report(y_test,y_pred))\n",
    "\n"
   ]
  },
  {
   "cell_type": "markdown",
   "id": "c552973c-5b55-401e-9053-2d9faae4f90d",
   "metadata": {},
   "source": [
    "## Apply preprocess text by removing stop words and applying bag of words and lemmatization"
   ]
  },
  {
   "cell_type": "code",
   "execution_count": 78,
   "id": "87e4c3dc-566b-4537-bd0b-36e43f001cdd",
   "metadata": {},
   "outputs": [],
   "source": [
    "import spacy\n",
    "nlp = spacy.load('en_core_web_sm')\n",
    "\n",
    "def preprocess_text(text):\n",
    "    doc = nlp(text)\n",
    "    filtered_tokens = []\n",
    "    \n",
    "    for token in doc:\n",
    "        if not token.is_stop and not token.is_punct:\n",
    "            filtered_tokens.append(token.lemma_)\n",
    "    \n",
    "    return \" \".join(filtered_tokens)\n"
   ]
  },
  {
   "cell_type": "code",
   "execution_count": 80,
   "id": "49311b9d-6bcc-4409-ba84-774ac2d62998",
   "metadata": {},
   "outputs": [],
   "source": [
    "data['preprocess_text']=data.text.apply(preprocess_text)"
   ]
  },
  {
   "cell_type": "code",
   "execution_count": 82,
   "id": "7b107d3f-c6ba-4d60-9b4a-a4b0df00c720",
   "metadata": {},
   "outputs": [
    {
     "data": {
      "text/html": [
       "<div>\n",
       "<style scoped>\n",
       "    .dataframe tbody tr th:only-of-type {\n",
       "        vertical-align: middle;\n",
       "    }\n",
       "\n",
       "    .dataframe tbody tr th {\n",
       "        vertical-align: top;\n",
       "    }\n",
       "\n",
       "    .dataframe thead th {\n",
       "        text-align: right;\n",
       "    }\n",
       "</style>\n",
       "<table border=\"1\" class=\"dataframe\">\n",
       "  <thead>\n",
       "    <tr style=\"text-align: right;\">\n",
       "      <th></th>\n",
       "      <th>id</th>\n",
       "      <th>text</th>\n",
       "      <th>target</th>\n",
       "      <th>preprocess_text</th>\n",
       "    </tr>\n",
       "  </thead>\n",
       "  <tbody>\n",
       "    <tr>\n",
       "      <th>0</th>\n",
       "      <td>1</td>\n",
       "      <td>Our Deeds are the Reason of this #earthquake M...</td>\n",
       "      <td>1</td>\n",
       "      <td>deed Reason earthquake ALLAH forgive</td>\n",
       "    </tr>\n",
       "    <tr>\n",
       "      <th>1</th>\n",
       "      <td>4</td>\n",
       "      <td>Forest fire near La Ronge Sask. Canada</td>\n",
       "      <td>1</td>\n",
       "      <td>forest fire near La Ronge Sask Canada</td>\n",
       "    </tr>\n",
       "    <tr>\n",
       "      <th>2</th>\n",
       "      <td>5</td>\n",
       "      <td>All residents asked to 'shelter in place' are ...</td>\n",
       "      <td>1</td>\n",
       "      <td>resident ask shelter place notify officer evac...</td>\n",
       "    </tr>\n",
       "    <tr>\n",
       "      <th>3</th>\n",
       "      <td>6</td>\n",
       "      <td>13,000 people receive #wildfires evacuation or...</td>\n",
       "      <td>1</td>\n",
       "      <td>13,000 people receive wildfire evacuation orde...</td>\n",
       "    </tr>\n",
       "    <tr>\n",
       "      <th>4</th>\n",
       "      <td>7</td>\n",
       "      <td>Just got sent this photo from Ruby #Alaska as ...</td>\n",
       "      <td>1</td>\n",
       "      <td>get send photo Ruby Alaska smoke wildfire pour...</td>\n",
       "    </tr>\n",
       "  </tbody>\n",
       "</table>\n",
       "</div>"
      ],
      "text/plain": [
       "   id                                               text  target  \\\n",
       "0   1  Our Deeds are the Reason of this #earthquake M...       1   \n",
       "1   4             Forest fire near La Ronge Sask. Canada       1   \n",
       "2   5  All residents asked to 'shelter in place' are ...       1   \n",
       "3   6  13,000 people receive #wildfires evacuation or...       1   \n",
       "4   7  Just got sent this photo from Ruby #Alaska as ...       1   \n",
       "\n",
       "                                     preprocess_text  \n",
       "0               deed Reason earthquake ALLAH forgive  \n",
       "1              forest fire near La Ronge Sask Canada  \n",
       "2  resident ask shelter place notify officer evac...  \n",
       "3  13,000 people receive wildfire evacuation orde...  \n",
       "4  get send photo Ruby Alaska smoke wildfire pour...  "
      ]
     },
     "execution_count": 82,
     "metadata": {},
     "output_type": "execute_result"
    }
   ],
   "source": [
    "data.head()"
   ]
  },
  {
   "cell_type": "markdown",
   "id": "8000ac57-e035-4763-99cd-d88ab65c133c",
   "metadata": {},
   "source": [
    "## Random Forest"
   ]
  },
  {
   "cell_type": "code",
   "execution_count": 91,
   "id": "1afece6e-0508-4b87-9ea9-cfd6987c73da",
   "metadata": {},
   "outputs": [],
   "source": [
    "from sklearn.model_selection import train_test_split\n",
    "\n",
    "X_train,X_test,y_train,y_test=train_test_split(data.preprocess_text,\n",
    "                                              data.target,\n",
    "                                              test_size=0.2,\n",
    "                                              random_state=2024,\n",
    "                                              stratify=data.target\n",
    "                                              )\n"
   ]
  },
  {
   "cell_type": "code",
   "execution_count": 93,
   "id": "ddde937b-64eb-46b9-9938-369589032a29",
   "metadata": {},
   "outputs": [
    {
     "name": "stdout",
     "output_type": "stream",
     "text": [
      "              precision    recall  f1-score   support\n",
      "\n",
      "           0       0.66      0.97      0.78       869\n",
      "           1       0.91      0.32      0.48       654\n",
      "\n",
      "    accuracy                           0.70      1523\n",
      "   macro avg       0.78      0.65      0.63      1523\n",
      "weighted avg       0.76      0.70      0.65      1523\n",
      "\n"
     ]
    }
   ],
   "source": [
    "\n",
    "from sklearn.ensemble import RandomForestClassifier\n",
    "\n",
    "# Define the pipeline\n",
    "RF = Pipeline([\n",
    "    ('vect', CountVectorizer(ngram_range=(3, 3))),  # Trigrams\n",
    "    ('clf', RandomForestClassifier())  # Random Forest classifier\n",
    "])\n",
    "\n",
    "\n",
    "\n",
    "# Fit the pipeline on the training data\n",
    "RF.fit(X_train, y_train)\n",
    "\n",
    "y_pred=RF.predict(X_test)\n",
    "print(classification_report(y_test,y_pred))"
   ]
  },
  {
   "cell_type": "code",
   "execution_count": 95,
   "id": "16478339-45b3-4766-8d3c-ec403f79a23d",
   "metadata": {},
   "outputs": [
    {
     "name": "stdout",
     "output_type": "stream",
     "text": [
      "              precision    recall  f1-score   support\n",
      "\n",
      "           0       0.73      0.95      0.83       869\n",
      "           1       0.89      0.54      0.67       654\n",
      "\n",
      "    accuracy                           0.77      1523\n",
      "   macro avg       0.81      0.74      0.75      1523\n",
      "weighted avg       0.80      0.77      0.76      1523\n",
      "\n"
     ]
    }
   ],
   "source": [
    "\n",
    "from sklearn.ensemble import RandomForestClassifier\n",
    "\n",
    "# Define the pipeline\n",
    "RF = Pipeline([\n",
    "    ('vect', CountVectorizer(ngram_range=(1, 2))),  \n",
    "    ('clf', RandomForestClassifier())  \n",
    "])\n",
    "\n",
    "\n",
    "\n",
    "# Fit the pipeline on the training data\n",
    "RF.fit(X_train, y_train)\n",
    "\n",
    "y_pred=RF.predict(X_test)\n",
    "print(classification_report(y_test,y_pred))"
   ]
  },
  {
   "cell_type": "code",
   "execution_count": 99,
   "id": "0c906c4d-bde7-43d3-aa3d-3d2e0548d7e6",
   "metadata": {},
   "outputs": [
    {
     "name": "stdout",
     "output_type": "stream",
     "text": [
      "              precision    recall  f1-score   support\n",
      "\n",
      "           0       0.75      0.91      0.82       869\n",
      "           1       0.84      0.59      0.70       654\n",
      "\n",
      "    accuracy                           0.78      1523\n",
      "   macro avg       0.80      0.75      0.76      1523\n",
      "weighted avg       0.79      0.78      0.77      1523\n",
      "\n"
     ]
    }
   ],
   "source": [
    "\n",
    "from sklearn.ensemble import RandomForestClassifier\n",
    "\n",
    "# Define the pipeline\n",
    "RF = Pipeline([\n",
    "    ('vect', CountVectorizer()),\n",
    "    ('clf', RandomForestClassifier())  \n",
    "])\n",
    "\n",
    "\n",
    "\n",
    "# Fit the pipeline on the training data\n",
    "RF.fit(X_train, y_train)\n",
    "\n",
    "y_pred=RF.predict(X_test)\n",
    "print(classification_report(y_test,y_pred))"
   ]
  },
  {
   "cell_type": "code",
   "execution_count": 105,
   "id": "2866d3cb-bde1-4c81-a2b3-81344ef36ec1",
   "metadata": {},
   "outputs": [
    {
     "name": "stdout",
     "output_type": "stream",
     "text": [
      "              precision    recall  f1-score   support\n",
      "\n",
      "           0       0.79      0.84      0.81       869\n",
      "           1       0.77      0.71      0.74       654\n",
      "\n",
      "    accuracy                           0.78      1523\n",
      "   macro avg       0.78      0.77      0.78      1523\n",
      "weighted avg       0.78      0.78      0.78      1523\n",
      "\n"
     ]
    }
   ],
   "source": [
    "\n",
    "from sklearn.naive_bayes import MultinomialNB\n",
    "\n",
    "# Define the pipeline\n",
    "NB = Pipeline([\n",
    "    ('vect', CountVectorizer()),  \n",
    "    ('clf', MultinomialNB())  \n",
    "])\n",
    "\n",
    "\n",
    "# Fit the pipeline on the training data\n",
    "NB.fit(X_train, y_train)\n",
    "\n",
    "y_pred=NB.predict(X_test)\n",
    "\n",
    "print(classification_report(y_test,y_pred))\n",
    "\n"
   ]
  },
  {
   "cell_type": "code",
   "execution_count": null,
   "id": "f9ff2cad-095a-4ada-a314-39c0ea6e86c9",
   "metadata": {},
   "outputs": [],
   "source": []
  }
 ],
 "metadata": {
  "kernelspec": {
   "display_name": "Python 3 (ipykernel)",
   "language": "python",
   "name": "python3"
  },
  "language_info": {
   "codemirror_mode": {
    "name": "ipython",
    "version": 3
   },
   "file_extension": ".py",
   "mimetype": "text/x-python",
   "name": "python",
   "nbconvert_exporter": "python",
   "pygments_lexer": "ipython3",
   "version": "3.11.9"
  }
 },
 "nbformat": 4,
 "nbformat_minor": 5
}
